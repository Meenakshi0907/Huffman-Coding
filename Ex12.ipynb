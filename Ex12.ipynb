{
 "cells": [
  {
   "cell_type": "code",
   "execution_count": 9,
   "id": "d1242a25",
   "metadata": {},
   "outputs": [],
   "source": [
    "string= '212221230057 Meenakshi M'\n",
    "\n",
    "class NodeTree(object):\n",
    "    def __init__(self,left=None,right=None):\n",
    "        self.left=left\n",
    "        self.right=right\n",
    "        \n",
    "    def children(self):\n",
    "        return(self.left,self.right)"
   ]
  },
  {
   "cell_type": "code",
   "execution_count": 2,
   "id": "42eae80e",
   "metadata": {},
   "outputs": [],
   "source": [
    "freq={}\n",
    "for c in string:\n",
    "    if c in freq:\n",
    "        freq[c]+=1\n",
    "    else:\n",
    "        freq[c]=1\n",
    "        \n",
    "freq=sorted(freq.items(),key=lambda x: x[1],reverse=True)\n",
    "nodes=freq"
   ]
  },
  {
   "cell_type": "code",
   "execution_count": 3,
   "id": "8bfec288",
   "metadata": {},
   "outputs": [],
   "source": [
    "while len(nodes)>1:\n",
    "    (key1,c1)=nodes[-1]\n",
    "    (key2,c2)=nodes[-2]\n",
    "    nodes=nodes[:-2]\n",
    "    node=NodeTree(key1,key2)\n",
    "    nodes.append((node,c1+c2))\n",
    "    \n",
    "    nodes=sorted(nodes,key=lambda x: x[1],reverse=True)"
   ]
  },
  {
   "cell_type": "code",
   "execution_count": 7,
   "id": "4c5b81c7",
   "metadata": {},
   "outputs": [],
   "source": [
    "def huffman_code_tree(node,left=True,binString=''):\n",
    "    if type(node) is str:\n",
    "        return {node: binString}\n",
    "    (l,r)=node.children()\n",
    "    d=dict()\n",
    "    d.update(huffman_code_tree(l,True,binString+'0'))\n",
    "    d.update(huffman_code_tree(r,False,binString+'1'))\n",
    "    return d"
   ]
  },
  {
   "cell_type": "code",
   "execution_count": 8,
   "id": "963131bb",
   "metadata": {},
   "outputs": [
    {
     "name": "stdout",
     "output_type": "stream",
     "text": [
      "Char|Huffman code\n",
      "'2' |          01\n",
      "'1' |        1011\n",
      "'0' |        1010\n",
      "' ' |        1101\n",
      "'M' |        1100\n",
      "'e' |        1111\n",
      "'3' |        1000\n",
      "'5' |       10011\n",
      "'7' |       10010\n",
      "'n' |        0001\n",
      "'a' |        0000\n",
      "'k' |        0011\n",
      "'s' |        0010\n",
      "'h' |       11101\n",
      "'i' |       11100\n"
     ]
    }
   ],
   "source": [
    "huffmanCode=huffman_code_tree(nodes[0][0])\n",
    "print('Char|Huffman code')\n",
    "for(char,frequency) in freq:\n",
    "    print('%-4r|%12s'%(char,huffmanCode[char]))"
   ]
  }
 ],
 "metadata": {
  "kernelspec": {
   "display_name": "Python 3 (ipykernel)",
   "language": "python",
   "name": "python3"
  },
  "language_info": {
   "codemirror_mode": {
    "name": "ipython",
    "version": 3
   },
   "file_extension": ".py",
   "mimetype": "text/x-python",
   "name": "python",
   "nbconvert_exporter": "python",
   "pygments_lexer": "ipython3",
   "version": "3.9.7"
  }
 },
 "nbformat": 4,
 "nbformat_minor": 5
}
